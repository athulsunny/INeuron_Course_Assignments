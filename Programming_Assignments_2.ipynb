{
  "nbformat": 4,
  "nbformat_minor": 0,
  "metadata": {
    "colab": {
      "provenance": [],
      "authorship_tag": "ABX9TyMzaZ3MDspFQYDtrYHPEKm3",
      "include_colab_link": true
    },
    "kernelspec": {
      "name": "python3",
      "display_name": "Python 3"
    },
    "language_info": {
      "name": "python"
    }
  },
  "cells": [
    {
      "cell_type": "markdown",
      "metadata": {
        "id": "view-in-github",
        "colab_type": "text"
      },
      "source": [
        "<a href=\"https://colab.research.google.com/github/AfreethSulfikar/Ineuron-Assignments/blob/main/Programming_Assignments_2.ipynb\" target=\"_parent\"><img src=\"https://colab.research.google.com/assets/colab-badge.svg\" alt=\"Open In Colab\"/></a>"
      ]
    },
    {
      "cell_type": "markdown",
      "source": [
        "1.Write a Python program to convert kilometers to miles?"
      ],
      "metadata": {
        "id": "uI-hpsS5tLPh"
      }
    },
    {
      "cell_type": "code",
      "source": [
        "kilometers = float(input(\"Enter value in kilometers: \"))\n",
        "conversion_factor = 0.621371\n",
        "miles = kilometers * conversion_factor\n",
        "print(\"{0} kilometers is equal to {1} miles\".format(kilometers, miles))\n"
      ],
      "metadata": {
        "colab": {
          "base_uri": "https://localhost:8080/"
        },
        "id": "2GCZNiOht_6H",
        "outputId": "5044714b-5871-40a8-d16b-da1a422a6f39"
      },
      "execution_count": 1,
      "outputs": [
        {
          "output_type": "stream",
          "name": "stdout",
          "text": [
            "Enter value in kilometers: 1221\n",
            "1221.0 kilometers is equal to 758.693991 miles\n"
          ]
        }
      ]
    },
    {
      "cell_type": "markdown",
      "source": [
        "2.Write a Python program to convert Celsius to Fahrenheit?"
      ],
      "metadata": {
        "id": "UvgsthrPt_rX"
      }
    },
    {
      "cell_type": "code",
      "source": [
        "celsius = float(input(\"Enter temperature in Celsius: \"))\n",
        "fahrenheit = (celsius * 1.8) + 32\n",
        "print(\"{0} Celsius is equal to {1} Fahrenheit\".format(celsius, fahrenheit))\n"
      ],
      "metadata": {
        "colab": {
          "base_uri": "https://localhost:8080/"
        },
        "id": "NuUT0u5YuEtX",
        "outputId": "a812e93d-3185-41cc-8424-c8e214652d06"
      },
      "execution_count": 2,
      "outputs": [
        {
          "output_type": "stream",
          "name": "stdout",
          "text": [
            "Enter temperature in Celsius: 12\n",
            "12.0 Celsius is equal to 53.6 Fahrenheit\n"
          ]
        }
      ]
    },
    {
      "cell_type": "markdown",
      "source": [
        "3.Write a Python program to display calendar?"
      ],
      "metadata": {
        "id": "ikh2MZ5QuKwJ"
      }
    },
    {
      "cell_type": "code",
      "source": [
        "import calendar\n",
        "\n",
        "year = int(input(\"Enter year: \"))\n",
        "month = int(input(\"Enter month: \"))\n",
        "\n",
        "print(calendar.month(year, month))\n"
      ],
      "metadata": {
        "colab": {
          "base_uri": "https://localhost:8080/"
        },
        "id": "W_zsjd8vuMrm",
        "outputId": "d5dbb68e-a222-457c-ace6-e7906b9826f5"
      },
      "execution_count": 3,
      "outputs": [
        {
          "output_type": "stream",
          "name": "stdout",
          "text": [
            "Enter year: 121\n",
            "Enter month: 1\n",
            "    January 121\n",
            "Mo Tu We Th Fr Sa Su\n",
            "       1  2  3  4  5\n",
            " 6  7  8  9 10 11 12\n",
            "13 14 15 16 17 18 19\n",
            "20 21 22 23 24 25 26\n",
            "27 28 29 30 31\n",
            "\n"
          ]
        }
      ]
    },
    {
      "cell_type": "markdown",
      "source": [
        "4.Write a Python program to solve quadratic equation?"
      ],
      "metadata": {
        "id": "re4aiCcQuNcd"
      }
    },
    {
      "cell_type": "code",
      "source": [
        "import cmath\n",
        "\n",
        "a = float(input(\"Enter coefficient a: \"))\n",
        "b = float(input(\"Enter coefficient b: \"))\n",
        "c = float(input(\"Enter coefficient c: \"))\n",
        "\n",
        "# calculate the discriminant\n",
        "d = (b ** 2) - (4 * a * c)\n",
        "\n",
        "# find two solutions\n",
        "sol1 = (-b - cmath.sqrt(d)) / (2 * a)\n",
        "sol2 = (-b + cmath.sqrt(d)) / (2 * a)\n",
        "\n",
        "print(\"The solutions are {0} and {1}\".format(sol1, sol2))\n"
      ],
      "metadata": {
        "colab": {
          "base_uri": "https://localhost:8080/"
        },
        "id": "Dkpy8yz0uR3F",
        "outputId": "12fd6621-9a37-4e9b-faef-c99a5519275a"
      },
      "execution_count": 4,
      "outputs": [
        {
          "output_type": "stream",
          "name": "stdout",
          "text": [
            "Enter coefficient a: 32\n",
            "Enter coefficient b: 2\n",
            "Enter coefficient c: 23\n",
            "The solutions are (-0.03125-0.8472151069828724j) and (-0.03125+0.8472151069828724j)\n"
          ]
        }
      ]
    },
    {
      "cell_type": "markdown",
      "source": [
        "5.Write a Python program to swap two variables without temp variable?"
      ],
      "metadata": {
        "id": "8PllriyhuUIr"
      }
    },
    {
      "cell_type": "code",
      "source": [
        "x = 10\n",
        "y = 5\n",
        "\n",
        "print(\"Before swapping: x = {0}, y = {1}\".format(x, y))\n",
        "\n",
        "\n",
        "x, y = y, x\n",
        "\n",
        "print(\"After swapping: x = {0}, y = {1}\".format(x, y))\n",
        "\n",
        "\n"
      ],
      "metadata": {
        "colab": {
          "base_uri": "https://localhost:8080/"
        },
        "id": "fuW5Sr9zuVr3",
        "outputId": "9ec537da-9f95-4041-cf09-e7702ba21bac"
      },
      "execution_count": 7,
      "outputs": [
        {
          "output_type": "stream",
          "name": "stdout",
          "text": [
            "Before swapping: x = 10, y = 5\n",
            "After swapping: x = 5, y = 10\n"
          ]
        }
      ]
    }
  ]
}