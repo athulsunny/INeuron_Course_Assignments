{
  "nbformat": 4,
  "nbformat_minor": 0,
  "metadata": {
    "colab": {
      "provenance": []
    },
    "kernelspec": {
      "name": "python3",
      "display_name": "Python 3"
    },
    "language_info": {
      "name": "python"
    }
  },
  "cells": [
    {
      "cell_type": "markdown",
      "source": [
        "# Python String Manipulation"
      ],
      "metadata": {
        "id": "EVA3wCs_uZg8"
      }
    },
    {
      "cell_type": "markdown",
      "source": [
        "1.Count the number of times iNeuron appears in the string."
      ],
      "metadata": {
        "id": "PolOm2cyumSn"
      }
    },
    {
      "cell_type": "code",
      "source": [
        "text = \"Welcome to iNeuron, You are a part of FSDS Bootcamp 2 in iNeuron. I hope you are enjoying the course by iNeuron\"\n",
        "text.count(\"iNeuron\")"
      ],
      "metadata": {
        "colab": {
          "base_uri": "https://localhost:8080/"
        },
        "id": "TM02X-vRusqh",
        "outputId": "e146d1b5-c8f5-474b-ef00-2a8086c81cf8"
      },
      "execution_count": null,
      "outputs": [
        {
          "output_type": "execute_result",
          "data": {
            "text/plain": [
              "3"
            ]
          },
          "metadata": {},
          "execution_count": 5
        }
      ]
    },
    {
      "cell_type": "markdown",
      "source": [
        "2.Check if position 5 to 11 ends with the phrase iNeuron. in the string"
      ],
      "metadata": {
        "id": "jOobFTTpvJf-"
      }
    },
    {
      "cell_type": "code",
      "source": [
        "txt = \"Hello, welcome to FSDS 2.0 at iNeuron.\"\n",
        "substr = txt[5:12]\n",
        "if substr.endswith(\"iNeuron\"):\n",
        "    print(\"Position 5 to 11 ends with 'iNeuron'\")\n",
        "else:\n",
        "    print(\"Position 5 to 11 does not end with 'iNeuron'\")\n"
      ],
      "metadata": {
        "colab": {
          "base_uri": "https://localhost:8080/"
        },
        "id": "7_PujKG9vNFg",
        "outputId": "9a609fc2-51a3-48b2-9578-c5fba7c7c628"
      },
      "execution_count": null,
      "outputs": [
        {
          "output_type": "stream",
          "name": "stdout",
          "text": [
            "Position 5 to 11 does not end with 'iNeuron'\n"
          ]
        }
      ]
    },
    {
      "cell_type": "markdown",
      "source": [
        "Write a program that takes your full name as input and displays the abbreviations of the first and middle names except the last name which is displayed as it is. For example, if your name is Sunny Bhaveen Chandra, then the output should be S.B.Chandra."
      ],
      "metadata": {
        "id": "oQeETDBvv6ru"
      }
    },
    {
      "cell_type": "code",
      "source": [
        "first_name=input(\"enter your first name:\")\n",
        "middle_name=input(\"enter your middle name:\")\n",
        "last_name=input(\"enter your last name:\")\n",
        "A=first_name[0:1]\n",
        "B=middle_name[0:1]\n",
        "C=last_name[0:]\n",
        "print(f\"my name is {A}.{B}.{C}\")"
      ],
      "metadata": {
        "id": "nS1BrHamvrMu"
      },
      "execution_count": null,
      "outputs": []
    },
    {
      "cell_type": "markdown",
      "source": [
        "4.Join all items in a list into a string, using a hash(#) character as separator:"
      ],
      "metadata": {
        "id": "j7y0VW-RxKux"
      }
    },
    {
      "cell_type": "code",
      "source": [
        "LIST = [\"My\", \"name\", \"is\", \"Rishav\", \"Dash\"]\n",
        "\"#\".join(LIST)"
      ],
      "metadata": {
        "colab": {
          "base_uri": "https://localhost:8080/",
          "height": 35
        },
        "id": "iM0EjwpIxNj0",
        "outputId": "14d3b9e1-24ed-48bb-a345-0d3ca778ebd2"
      },
      "execution_count": null,
      "outputs": [
        {
          "output_type": "execute_result",
          "data": {
            "text/plain": [
              "'My#name#is#Rishav#Dash'"
            ],
            "application/vnd.google.colaboratory.intrinsic+json": {
              "type": "string"
            }
          },
          "metadata": {},
          "execution_count": 14
        }
      ]
    },
    {
      "cell_type": "markdown",
      "source": [],
      "metadata": {
        "id": "wRjnCYU1oMdF"
      }
    },
    {
      "cell_type": "markdown",
      "source": [
        "5.Write example for the following string manipulation function.\n",
        "-isdecimal()\n",
        "-islower()\n",
        "-isupper()\n",
        "-isalpha()\n",
        "-isnumeric()"
      ],
      "metadata": {
        "id": "clXucLN5xunS"
      }
    },
    {
      "cell_type": "code",
      "source": [
        "A = \"AFREETH\"\n",
        "A.isdecimal()"
      ],
      "metadata": {
        "colab": {
          "base_uri": "https://localhost:8080/"
        },
        "id": "Shpx8AhjmsQ1",
        "outputId": "d1f824a2-b4d6-40ae-e3a8-38dd54de37ce"
      },
      "execution_count": null,
      "outputs": [
        {
          "output_type": "execute_result",
          "data": {
            "text/plain": [
              "False"
            ]
          },
          "metadata": {},
          "execution_count": 3
        }
      ]
    },
    {
      "cell_type": "code",
      "source": [
        "A.islower()"
      ],
      "metadata": {
        "colab": {
          "base_uri": "https://localhost:8080/"
        },
        "id": "2_WmMfZzm0YA",
        "outputId": "80df0733-eb21-4232-b1d7-2ed67bfa7d95"
      },
      "execution_count": null,
      "outputs": [
        {
          "output_type": "execute_result",
          "data": {
            "text/plain": [
              "False"
            ]
          },
          "metadata": {},
          "execution_count": 4
        }
      ]
    },
    {
      "cell_type": "code",
      "source": [
        "A.isupper()\n"
      ],
      "metadata": {
        "colab": {
          "base_uri": "https://localhost:8080/"
        },
        "id": "88WFKv6CnXEQ",
        "outputId": "faef0ce3-eee3-413c-a60b-1c396b317100"
      },
      "execution_count": null,
      "outputs": [
        {
          "output_type": "execute_result",
          "data": {
            "text/plain": [
              "True"
            ]
          },
          "metadata": {},
          "execution_count": 5
        }
      ]
    },
    {
      "cell_type": "code",
      "source": [
        "A.isalpha()\n"
      ],
      "metadata": {
        "colab": {
          "base_uri": "https://localhost:8080/"
        },
        "id": "mCi91akknZ5O",
        "outputId": "ab9e7de8-5576-40c4-e6e5-8465f92dca10"
      },
      "execution_count": null,
      "outputs": [
        {
          "output_type": "execute_result",
          "data": {
            "text/plain": [
              "True"
            ]
          },
          "metadata": {},
          "execution_count": 7
        }
      ]
    },
    {
      "cell_type": "code",
      "source": [
        "A.isnumeric()"
      ],
      "metadata": {
        "colab": {
          "base_uri": "https://localhost:8080/"
        },
        "id": "qTm01XGknebj",
        "outputId": "4daf7a73-965a-4143-f747-4b2f8f5d5594"
      },
      "execution_count": null,
      "outputs": [
        {
          "output_type": "execute_result",
          "data": {
            "text/plain": [
              "False"
            ]
          },
          "metadata": {},
          "execution_count": 8
        }
      ]
    },
    {
      "cell_type": "markdown",
      "source": [
        "Indian PAN card format follows the following formats -\n",
        "\n",
        "    - `AYEPC7894X`\n",
        "    - `ABCDE9999Y`\n",
        "  Take user input for PAN_CARD and validate as per the above example.\n",
        "\n"
      ],
      "metadata": {
        "id": "EsqPBVOHoNzt"
      }
    },
    {
      "cell_type": "code",
      "source": [
        "pan_number = input(\"Enter your Pancard Number:\")\n",
        "Last_name = input(\"Enter your Surname or Last name:\")\n",
        "\n",
        "if pan_number[0:5].isupper() and pan_number[5:9].isdigit() and pan_number[9].isupper() and len(pan_number)==10 and pan_number[4:5] == Last_name[0:1]  :\n",
        "  print(f\"user input is correct: {pan_number} \")\n",
        "else:\n",
        "  print(\"invalid input\")"
      ],
      "metadata": {
        "colab": {
          "base_uri": "https://localhost:8080/"
        },
        "id": "karjmSpYnirz",
        "outputId": "1478062d-7176-4960-8cb3-242c935f66b2"
      },
      "execution_count": null,
      "outputs": [
        {
          "output_type": "stream",
          "name": "stdout",
          "text": [
            "Enter your Pancard Number:DAIPA5671Q\n",
            "Enter your Surname or Last name:AFREETH\n",
            "user input is correct: DAIPA5671Q \n"
          ]
        }
      ]
    }
  ]
}