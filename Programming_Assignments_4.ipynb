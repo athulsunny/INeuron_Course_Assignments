{
  "nbformat": 4,
  "nbformat_minor": 0,
  "metadata": {
    "colab": {
      "provenance": [],
      "include_colab_link": true
    },
    "kernelspec": {
      "name": "python3",
      "display_name": "Python 3"
    },
    "language_info": {
      "name": "python"
    }
  },
  "cells": [
    {
      "cell_type": "markdown",
      "metadata": {
        "id": "view-in-github",
        "colab_type": "text"
      },
      "source": [
        "<a href=\"https://colab.research.google.com/github/athulsunny/INeuron_Course_Assignments/blob/main/Programming_Assignments_4.ipynb\" target=\"_parent\"><img src=\"https://colab.research.google.com/assets/colab-badge.svg\" alt=\"Open In Colab\"/></a>"
      ]
    },
    {
      "cell_type": "markdown",
      "source": [
        "1. Python Program to Find the Factorial of a Number:"
      ],
      "metadata": {
        "id": "UR4r1kH3LQd6"
      }
    },
    {
      "cell_type": "code",
      "execution_count": 1,
      "metadata": {
        "colab": {
          "base_uri": "https://localhost:8080/"
        },
        "id": "K5MbXJUyLK5P",
        "outputId": "2a3d8c26-61ad-47c2-ccb3-14f7c124c986"
      },
      "outputs": [
        {
          "output_type": "stream",
          "name": "stdout",
          "text": [
            "Enter a number: 12\n",
            "Factorial of 12 is 479001600\n"
          ]
        }
      ],
      "source": [
        "num = int(input(\"Enter a number: \"))\n",
        "\n",
        "# initialize factorial to 1\n",
        "factorial = 1\n",
        "\n",
        "# check if the number is negative, positive, or zero\n",
        "if num < 0:\n",
        "    print(\"Factorial does not exist for negative numbers\")\n",
        "elif num == 0:\n",
        "    print(\"Factorial of 0 is 1\")\n",
        "else:\n",
        "    for i in range(1, num + 1):\n",
        "        factorial = factorial * i\n",
        "    print(\"Factorial of\", num, \"is\", factorial)\n"
      ]
    },
    {
      "cell_type": "markdown",
      "source": [
        "\n",
        "2. Python Program to Display the Multiplication Table:\n"
      ],
      "metadata": {
        "id": "e33u3UW7LUPJ"
      }
    },
    {
      "cell_type": "code",
      "source": [
        "num = int(input(\"Enter a number: \"))\n",
        "\n",
        "# use a for loop to print the multiplication table\n",
        "for i in range(1, 11):\n",
        "    print(num, \"x\", i, \"=\", num*i)\n"
      ],
      "metadata": {
        "colab": {
          "base_uri": "https://localhost:8080/"
        },
        "id": "r6VzzAyeLVTT",
        "outputId": "ddc11d59-c94d-4726-8e60-345feb98521d"
      },
      "execution_count": 2,
      "outputs": [
        {
          "output_type": "stream",
          "name": "stdout",
          "text": [
            "Enter a number: 5\n",
            "5 x 1 = 5\n",
            "5 x 2 = 10\n",
            "5 x 3 = 15\n",
            "5 x 4 = 20\n",
            "5 x 5 = 25\n",
            "5 x 6 = 30\n",
            "5 x 7 = 35\n",
            "5 x 8 = 40\n",
            "5 x 9 = 45\n",
            "5 x 10 = 50\n"
          ]
        }
      ]
    },
    {
      "cell_type": "markdown",
      "source": [
        "3. Python Program to Print the Fibonacci Sequence:"
      ],
      "metadata": {
        "id": "EKuIqQx6LZjW"
      }
    },
    {
      "cell_type": "code",
      "source": [
        "terms = int(input(\"Enter the number of terms: \"))\n",
        "\n",
        "# initialize the first two terms of the sequence\n",
        "first_term = 0\n",
        "second_term = 1\n",
        "\n",
        "# check if the number of terms is valid\n",
        "if terms <= 0:\n",
        "    print(\"Invalid input. Please enter a positive integer.\")\n",
        "elif terms == 1:\n",
        "    print(\"Fibonacci sequence up to\", terms, \"term(s):\")\n",
        "    print(first_term)\n",
        "else:\n",
        "    print(\"Fibonacci sequence up to\", terms, \"term(s):\")\n",
        "    print(first_term)\n",
        "    print(second_term)\n",
        "    for i in range(2, terms):\n",
        "        next_term = first_term + second_term\n",
        "        print(next_term)\n",
        "        first_term = second_term\n",
        "        second_term = next_term\n"
      ],
      "metadata": {
        "colab": {
          "base_uri": "https://localhost:8080/"
        },
        "id": "HMBRa-e4Lbxz",
        "outputId": "e4d277cf-4bf2-41bf-9845-1938db06cdeb"
      },
      "execution_count": 3,
      "outputs": [
        {
          "output_type": "stream",
          "name": "stdout",
          "text": [
            "Enter the number of terms: 4\n",
            "Fibonacci sequence up to 4 term(s):\n",
            "0\n",
            "1\n",
            "1\n",
            "2\n"
          ]
        }
      ]
    },
    {
      "cell_type": "markdown",
      "source": [
        "4. Python Program to Check Armstrong Number:"
      ],
      "metadata": {
        "id": "8-zqYoeULhCh"
      }
    },
    {
      "cell_type": "code",
      "source": [
        "num = int(input(\"Enter a number: \"))\n",
        "\n",
        "# calculate the number of digits in the number\n",
        "num_of_digits = len(str(num))\n",
        "\n",
        "# initialize the sum variable\n",
        "sum = 0\n",
        "\n",
        "# calculate the sum of the cube of each digit\n",
        "temp = num\n",
        "while temp > 0:\n",
        "    digit = temp % 10\n",
        "    sum += digit ** num_of_digits\n",
        "    temp //= 10\n",
        "\n",
        "# check if the number is an Armstrong number or not\n",
        "if num == sum:\n",
        "    print(num, \"is an Armstrong number\")\n",
        "else:\n",
        "    print(num, \"is not an Armstrong number\")\n",
        "\n"
      ],
      "metadata": {
        "colab": {
          "base_uri": "https://localhost:8080/"
        },
        "id": "cbpT8VuCLiVO",
        "outputId": "917ca699-9b5d-4209-ce6f-9e683f75e3e2"
      },
      "execution_count": 4,
      "outputs": [
        {
          "output_type": "stream",
          "name": "stdout",
          "text": [
            "Enter a number: 6\n",
            "6 is an Armstrong number\n"
          ]
        }
      ]
    },
    {
      "cell_type": "markdown",
      "source": [
        "5. Python Program to Find Armstrong Numbers in an Interval:"
      ],
      "metadata": {
        "id": "Ne97eh7JL9NN"
      }
    },
    {
      "cell_type": "code",
      "source": [
        "lower_limit = int(input(\"Enter the lower limit: \"))\n",
        "upper_limit = int(input(\"Enter the upper limit: \"))\n",
        "\n",
        "# use a for loop to check each number in the interval\n",
        "for num in range(lower_limit, upper_limit+1):\n",
        "    # calculate the number of digits in the number\n",
        "    num_of_digits = len(str(num))\n",
        "\n",
        "    # initialize the sum variable\n",
        "    sum = 0\n",
        "\n",
        "    # calculate the sum of the cube of each digit\n",
        "    temp = num\n",
        "    while temp > 0:\n",
        "        digit = temp % 10\n",
        "        sum += digit ** num_of_digits\n",
        "        temp //= 10\n",
        "\n",
        "    # check if the number is an Armstrong number or not\n",
        "    if num == sum:\n",
        "        print(num)\n"
      ],
      "metadata": {
        "colab": {
          "base_uri": "https://localhost:8080/"
        },
        "id": "ZDTCh2cvL-ZJ",
        "outputId": "4b3f015c-a67b-4a00-ee3a-c9c86582c780"
      },
      "execution_count": 5,
      "outputs": [
        {
          "output_type": "stream",
          "name": "stdout",
          "text": [
            "Enter the lower limit: 9\n",
            "Enter the upper limit: 15\n",
            "9\n"
          ]
        }
      ]
    },
    {
      "cell_type": "markdown",
      "source": [
        "6. Python Program to Find the Sum of Natural Numbers:"
      ],
      "metadata": {
        "id": "9UAqjwQjMBNp"
      }
    },
    {
      "cell_type": "code",
      "source": [
        "# Function to find the sum of natural numbers\n",
        "def sum_of_natural_numbers(n):\n",
        "    if n < 0:\n",
        "        return \"Invalid input. Please enter a positive integer.\"\n",
        "    else:\n",
        "        sum = 0\n",
        "        for i in range(1, n + 1):\n",
        "            sum += i\n",
        "        return sum\n",
        "\n",
        "# Get input from the user\n",
        "num = int(input(\"Enter a positive integer: \"))\n",
        "\n",
        "# Call the function and display the result\n",
        "result = sum_of_natural_numbers(num)\n",
        "print(\"The sum of natural numbers up to\", num, \"is\", result)\n",
        "\n"
      ],
      "metadata": {
        "colab": {
          "base_uri": "https://localhost:8080/"
        },
        "id": "vc1eqI0BMDZI",
        "outputId": "0037cd86-f1df-486e-d8ed-7b7be4fb55c0"
      },
      "execution_count": 7,
      "outputs": [
        {
          "output_type": "stream",
          "name": "stdout",
          "text": [
            "Enter a positive integer: 8\n",
            "The sum of natural numbers up to 8 is 36\n"
          ]
        }
      ]
    }
  ]
}