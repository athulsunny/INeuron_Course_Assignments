{
  "nbformat": 4,
  "nbformat_minor": 0,
  "metadata": {
    "colab": {
      "provenance": [],
      "include_colab_link": true
    },
    "kernelspec": {
      "name": "python3",
      "display_name": "Python 3"
    },
    "language_info": {
      "name": "python"
    }
  },
  "cells": [
    {
      "cell_type": "markdown",
      "metadata": {
        "id": "view-in-github",
        "colab_type": "text"
      },
      "source": [
        "<a href=\"https://colab.research.google.com/github/athulsunny/INeuron_Course_Assignments/blob/main/Programming_Assignments_6.ipynb\" target=\"_parent\"><img src=\"https://colab.research.google.com/assets/colab-badge.svg\" alt=\"Open In Colab\"/></a>"
      ]
    },
    {
      "cell_type": "markdown",
      "source": [
        "1. Python Program to Display Fibonacci Sequence Using Recursion:"
      ],
      "metadata": {
        "id": "OMMVcjgTOsd5"
      }
    },
    {
      "cell_type": "code",
      "execution_count": 1,
      "metadata": {
        "id": "gFThQ361OkOQ",
        "colab": {
          "base_uri": "https://localhost:8080/"
        },
        "outputId": "509cb34e-b3e5-462e-ac29-e3d9e0c8f227"
      },
      "outputs": [
        {
          "output_type": "stream",
          "name": "stdout",
          "text": [
            "Enter the number of terms: 3\n",
            "Fibonacci sequence:\n",
            "0\n",
            "1\n",
            "1\n"
          ]
        }
      ],
      "source": [
        "def fibonacci_recursive(n):\n",
        "    if n <= 1:\n",
        "        return n\n",
        "    else:\n",
        "        return fibonacci_recursive(n-1) + fibonacci_recursive(n-2)\n",
        "\n",
        "nterms = int(input(\"Enter the number of terms: \"))\n",
        "\n",
        "if nterms <= 0:\n",
        "    print(\"Please enter a positive integer\")\n",
        "else:\n",
        "    print(\"Fibonacci sequence:\")\n",
        "    for i in range(nterms):\n",
        "        print(fibonacci_recursive(i))\n"
      ]
    },
    {
      "cell_type": "markdown",
      "source": [
        "2. Python Program to Find Factorial of Number Using Recursion:"
      ],
      "metadata": {
        "id": "jjC9DW7_O3QU"
      }
    },
    {
      "cell_type": "code",
      "source": [
        "def factorial_recursive(n):\n",
        "    if n == 1:\n",
        "        return n\n",
        "    else:\n",
        "        return n * factorial_recursive(n-1)\n",
        "\n",
        "num = int(input(\"Enter a number: \"))\n",
        "\n",
        "if num < 0:\n",
        "    print(\"Factorial does not exist for negative numbers\")\n",
        "elif num == 0:\n",
        "    print(\"The factorial of 0 is 1\")\n",
        "else:\n",
        "    print(f\"The factorial of {num} is {factorial_recursive(num)}\")\n"
      ],
      "metadata": {
        "colab": {
          "base_uri": "https://localhost:8080/"
        },
        "id": "IBIObugcO2XO",
        "outputId": "4f61d66c-b339-44f4-c640-4c453794b837"
      },
      "execution_count": 2,
      "outputs": [
        {
          "output_type": "stream",
          "name": "stdout",
          "text": [
            "Enter a number: 5\n",
            "The factorial of 5 is 120\n"
          ]
        }
      ]
    },
    {
      "cell_type": "markdown",
      "source": [
        "3. Python Program to Calculate Your Body Mass Index:"
      ],
      "metadata": {
        "id": "SrrAwOtuO3Vj"
      }
    },
    {
      "cell_type": "code",
      "source": [
        "height = float(input(\"Enter your height in meters: \"))\n",
        "weight = float(input(\"Enter your weight in kilograms: \"))\n",
        "\n",
        "bmi = weight / (height ** 2)\n",
        "\n",
        "print(f\"Your BMI is {bmi:.2f}\")\n",
        "\n",
        "if bmi < 18.5:\n",
        "    print(\"You are underweight.\")\n",
        "elif bmi >= 18.5 and bmi < 25:\n",
        "    print(\"You are of normal weight.\")\n",
        "elif bmi >= 25 and bmi < 30:\n",
        "    print(\"You are overweight.\")\n",
        "else:\n",
        "    print(\"You are obese.\")\n"
      ],
      "metadata": {
        "colab": {
          "base_uri": "https://localhost:8080/"
        },
        "id": "cJR6Fw8OPAJ1",
        "outputId": "6fc2d37a-820a-4f27-f57d-897759b35e5f"
      },
      "execution_count": 4,
      "outputs": [
        {
          "output_type": "stream",
          "name": "stdout",
          "text": [
            "Enter your height in meters: 1.5\n",
            "Enter your weight in kilograms: 80\n",
            "Your BMI is 35.56\n",
            "You are obese.\n"
          ]
        }
      ]
    },
    {
      "cell_type": "markdown",
      "source": [
        "4. Python Program to Calculate the Natural Logarithm of any Number:"
      ],
      "metadata": {
        "id": "dc-2UubCPCjs"
      }
    },
    {
      "cell_type": "code",
      "source": [
        "import math\n",
        "\n",
        "num = float(input(\"Enter a number: \"))\n",
        "\n",
        "if num <= 0:\n",
        "    print(\"Please enter a positive number\")\n",
        "else:\n",
        "    result = math.log(num)\n",
        "    print(f\"The natural logarithm of {num} is {result:.2f}\")\n"
      ],
      "metadata": {
        "colab": {
          "base_uri": "https://localhost:8080/"
        },
        "id": "oy0UDdo-PDEZ",
        "outputId": "f706ccc0-02df-4ec5-f5ee-65c4c841c0e6"
      },
      "execution_count": 5,
      "outputs": [
        {
          "output_type": "stream",
          "name": "stdout",
          "text": [
            "Enter a number: 4\n",
            "The natural logarithm of 4.0 is 1.39\n"
          ]
        }
      ]
    },
    {
      "cell_type": "markdown",
      "source": [
        "5. Python Program for Cube Sum of First n Natural Numbers:"
      ],
      "metadata": {
        "id": "6AVf1WbcPBAm"
      }
    },
    {
      "cell_type": "code",
      "source": [
        "n = int(input(\"Enter the value of n: \"))\n",
        "\n",
        "sum = 0\n",
        "for i in range(1, n+1):\n",
        "    sum += i**3\n",
        "\n",
        "print(f\"The cube sum of first {n} natural numbers is {sum}\")\n"
      ],
      "metadata": {
        "colab": {
          "base_uri": "https://localhost:8080/"
        },
        "id": "TJiVd6iNPNVA",
        "outputId": "573c198e-3c49-4590-be94-26dec8eab4bc"
      },
      "execution_count": 6,
      "outputs": [
        {
          "output_type": "stream",
          "name": "stdout",
          "text": [
            "Enter the value of n: 3\n",
            "The cube sum of first 3 natural numbers is 36\n"
          ]
        }
      ]
    }
  ]
}