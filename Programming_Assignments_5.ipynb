{
  "nbformat": 4,
  "nbformat_minor": 0,
  "metadata": {
    "colab": {
      "provenance": [],
      "include_colab_link": true
    },
    "kernelspec": {
      "name": "python3",
      "display_name": "Python 3"
    },
    "language_info": {
      "name": "python"
    }
  },
  "cells": [
    {
      "cell_type": "markdown",
      "metadata": {
        "id": "view-in-github",
        "colab_type": "text"
      },
      "source": [
        "<a href=\"https://colab.research.google.com/github/athulsunny/INeuron_Course_Assignments/blob/main/Programming_Assignments_5.ipynb\" target=\"_parent\"><img src=\"https://colab.research.google.com/assets/colab-badge.svg\" alt=\"Open In Colab\"/></a>"
      ]
    },
    {
      "cell_type": "markdown",
      "source": [
        "1. Python program to find LCM:"
      ],
      "metadata": {
        "id": "E2l78LfRNn_Q"
      }
    },
    {
      "cell_type": "code",
      "execution_count": 4,
      "metadata": {
        "colab": {
          "base_uri": "https://localhost:8080/"
        },
        "id": "IlYsbQn3Njhf",
        "outputId": "1f391e10-1d19-45c6-acb0-1d5d193e95cd"
      },
      "outputs": [
        {
          "output_type": "stream",
          "name": "stdout",
          "text": [
            "Enter the first number: 2\n",
            "Enter the second number: 5\n",
            "The LCM of 2 and 5 is 10\n"
          ]
        }
      ],
      "source": [
        "# Function to find the GCD (Greatest Common Divisor) of two numbers\n",
        "def gcd(a, b):\n",
        "    while b != 0:\n",
        "        a, b = b, a % b\n",
        "    return a\n",
        "\n",
        "# Function to find the LCM (Least Common Multiple) of two numbers\n",
        "def lcm(a, b):\n",
        "    lcm = (a * b) // gcd(a, b)\n",
        "    return lcm\n",
        "\n",
        "# Get input from the user\n",
        "num1 = int(input(\"Enter the first number: \"))\n",
        "num2 = int(input(\"Enter the second number: \"))\n",
        "\n",
        "# Call the lcm function and display the result\n",
        "result = lcm(num1, num2)\n",
        "print(\"The LCM of\", num1, \"and\", num2, \"is\", result)\n"
      ]
    },
    {
      "cell_type": "markdown",
      "source": [
        "2. Python program to find HCF:"
      ],
      "metadata": {
        "id": "gHs7gE4CNrhx"
      }
    },
    {
      "cell_type": "code",
      "source": [
        "# Function to find the HCF (Highest Common Factor) or GCD (Greatest Common Divisor) of two numbers\n",
        "def hcf(a, b):\n",
        "    while b != 0:\n",
        "        a, b = b, a % b\n",
        "    return a\n",
        "\n",
        "# Get input from the user\n",
        "num1 = int(input(\"Enter the first number: \"))\n",
        "num2 = int(input(\"Enter the second number: \"))\n",
        "\n",
        "# Call the hcf function and display the result\n",
        "result = hcf(num1, num2)\n",
        "print(\"The HCF of\", num1, \"and\", num2, \"is\", result)\n",
        "\n"
      ],
      "metadata": {
        "colab": {
          "base_uri": "https://localhost:8080/"
        },
        "id": "JeG3glPNNrUs",
        "outputId": "e2c3475e-1bd9-4b9e-fddb-d4fa9b0c0e5a"
      },
      "execution_count": 5,
      "outputs": [
        {
          "output_type": "stream",
          "name": "stdout",
          "text": [
            "Enter the first number: 3\n",
            "Enter the second number: 7\n",
            "The HCF of 3 and 7 is 1\n"
          ]
        }
      ]
    },
    {
      "cell_type": "markdown",
      "source": [
        "3. Python program to convert Decimal to Binary, Octal and Hexadecimal:"
      ],
      "metadata": {
        "id": "G7Yh5olNN-_M"
      }
    },
    {
      "cell_type": "code",
      "source": [
        "# Function to convert decimal to binary\n",
        "def decimal_to_binary(num):\n",
        "    return bin(num).replace(\"0b\", \"\")\n",
        "\n",
        "# Function to convert decimal to octal\n",
        "def decimal_to_octal(num):\n",
        "    return oct(num).replace(\"0o\", \"\")\n",
        "\n",
        "# Function to convert decimal to hexadecimal\n",
        "def decimal_to_hexadecimal(num):\n",
        "    return hex(num).replace(\"0x\", \"\")\n",
        "\n",
        "# Get input from the user\n",
        "decimal_num = int(input(\"Enter a decimal number: \"))\n",
        "\n",
        "# Convert to binary, octal, and hexadecimal\n",
        "binary_num = decimal_to_binary(decimal_num)\n",
        "octal_num = decimal_to_octal(decimal_num)\n",
        "hexadecimal_num = decimal_to_hexadecimal(decimal_num)\n",
        "\n",
        "# Display the converted values\n",
        "print(\"Binary: \", binary_num)\n",
        "print(\"Octal: \", octal_num)\n",
        "print(\"Hexadecimal: \", hexadecimal_num)\n"
      ],
      "metadata": {
        "colab": {
          "base_uri": "https://localhost:8080/"
        },
        "id": "nJo2hc9LOAeF",
        "outputId": "88a5977a-41aa-42f9-ddd8-87662df2a4a7"
      },
      "execution_count": 9,
      "outputs": [
        {
          "output_type": "stream",
          "name": "stdout",
          "text": [
            "Enter a decimal number: 2\n",
            "Binary:  10\n",
            "Octal:  2\n",
            "Hexadecimal:  2\n"
          ]
        }
      ]
    },
    {
      "cell_type": "markdown",
      "source": [
        "4. Python program to find ASCII value of a character:"
      ],
      "metadata": {
        "id": "JyPzyIM0OFTO"
      }
    },
    {
      "cell_type": "code",
      "source": [
        "char = input(\"Enter a character: \")\n",
        "ascii_val = ord(char)\n",
        "print(\"ASCII value of\", char, \"is:\", ascii_val)\n"
      ],
      "metadata": {
        "colab": {
          "base_uri": "https://localhost:8080/"
        },
        "id": "eUGJxWATOHnM",
        "outputId": "870dc0a1-3972-4832-89e2-a3bec0eeeb7c"
      },
      "execution_count": 11,
      "outputs": [
        {
          "output_type": "stream",
          "name": "stdout",
          "text": [
            "Enter a character: s\n",
            "ASCII value of s is: 115\n"
          ]
        }
      ]
    },
    {
      "cell_type": "markdown",
      "source": [
        "5. Python program to make a simple calculator with 4 basic mathematical operations:"
      ],
      "metadata": {
        "id": "bDqUp6G0OP6b"
      }
    },
    {
      "cell_type": "code",
      "source": [
        "def add(num1, num2):\n",
        "    return num1 + num2\n",
        "\n",
        "def subtract(num1, num2):\n",
        "    return num1 - num2\n",
        "\n",
        "def multiply(num1, num2):\n",
        "    return num1 * num2\n",
        "\n",
        "def divide(num1, num2):\n",
        "    return num1 / num2\n",
        "\n",
        "print(\"Select operation:\")\n",
        "print(\"1. Add\")\n",
        "print(\"2. Subtract\")\n",
        "print(\"3. Multiply\")\n",
        "print(\"4. Divide\")\n",
        "\n",
        "# Take input from the user\n",
        "choice = int(input(\"Enter choice (1/2/3/4): \"))\n",
        "\n",
        "num1 = float(input(\"Enter first number: \"))\n",
        "num2 = float(input(\"Enter second number: \"))\n",
        "\n",
        "if choice == 1:\n",
        "    print(num1, \"+\", num2, \"=\", add(num1, num2))\n",
        "\n",
        "elif choice == 2:\n",
        "    print(num1, \"-\", num2, \"=\", subtract(num1, num2))\n",
        "\n",
        "elif choice == 3:\n",
        "    print(num1, \"*\", num2, \"=\", multiply(num1, num2))\n",
        "\n",
        "elif choice == 4:\n",
        "    print(num1, \"/\", num2, \"=\", divide(num1, num2))\n",
        "else:\n",
        "    print(\"Invalid input\")\n"
      ],
      "metadata": {
        "colab": {
          "base_uri": "https://localhost:8080/"
        },
        "id": "tHDq_5l0OUyC",
        "outputId": "dc4adc59-e07d-4b76-f0b7-ead99901f9c2"
      },
      "execution_count": 12,
      "outputs": [
        {
          "output_type": "stream",
          "name": "stdout",
          "text": [
            "Select operation:\n",
            "1. Add\n",
            "2. Subtract\n",
            "3. Multiply\n",
            "4. Divide\n",
            "Enter choice (1/2/3/4): 2\n",
            "Enter first number: 6\n",
            "Enter second number: 12\n",
            "6.0 - 12.0 = -6.0\n"
          ]
        }
      ]
    }
  ]
}