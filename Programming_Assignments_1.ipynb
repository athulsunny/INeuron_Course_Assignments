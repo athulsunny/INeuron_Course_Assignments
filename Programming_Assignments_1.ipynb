{
  "nbformat": 4,
  "nbformat_minor": 0,
  "metadata": {
    "colab": {
      "provenance": [],
      "authorship_tag": "ABX9TyOKfzLcQ0huLCEr87E6B/xJ",
      "include_colab_link": true
    },
    "kernelspec": {
      "name": "python3",
      "display_name": "Python 3"
    },
    "language_info": {
      "name": "python"
    }
  },
  "cells": [
    {
      "cell_type": "markdown",
      "metadata": {
        "id": "view-in-github",
        "colab_type": "text"
      },
      "source": [
        "<a href=\"https://colab.research.google.com/github/AfreethSulfikar/Ineuron-Assignments/blob/main/Programming_Assignments_1.ipynb\" target=\"_parent\"><img src=\"https://colab.research.google.com/assets/colab-badge.svg\" alt=\"Open In Colab\"/></a>"
      ]
    },
    {
      "cell_type": "markdown",
      "source": [
        "1.Write a Python program to print \"Hello Python\"?"
      ],
      "metadata": {
        "id": "S-6btMgsoh0b"
      }
    },
    {
      "cell_type": "code",
      "execution_count": null,
      "metadata": {
        "colab": {
          "base_uri": "https://localhost:8080/"
        },
        "id": "wuFvdiXNoUEC",
        "outputId": "b88c63be-38b7-43f6-df6d-42e93b0d8ea7"
      },
      "outputs": [
        {
          "output_type": "stream",
          "name": "stdout",
          "text": [
            "Hello Python\n"
          ]
        }
      ],
      "source": [
        "\n",
        "print(\"Hello Python\")\n"
      ]
    },
    {
      "cell_type": "markdown",
      "source": [
        "2.Write a Python program to do arithmetical operations addition and division.?\n",
        "Perform addition and division:\n"
      ],
      "metadata": {
        "id": "laOgdSqBol0J"
      }
    },
    {
      "cell_type": "code",
      "source": [
        "a = 5\n",
        "b = 3\n",
        "\n",
        "# addition\n",
        "c = a + b\n",
        "print(c)  # output: 8\n",
        "\n",
        "# division\n",
        "d = a / b\n",
        "print(d)  \n"
      ],
      "metadata": {
        "colab": {
          "base_uri": "https://localhost:8080/"
        },
        "id": "EineSodFonEC",
        "outputId": "bfcdbb45-8f1e-4e76-e1dc-db1ac0802c1e"
      },
      "execution_count": null,
      "outputs": [
        {
          "output_type": "stream",
          "name": "stdout",
          "text": [
            "8\n",
            "1.6666666666666667\n"
          ]
        }
      ]
    },
    {
      "cell_type": "markdown",
      "source": [
        "3.Write a Python program to find the area of a triangle?"
      ],
      "metadata": {
        "id": "iv8oJfiGoxUC"
      }
    },
    {
      "cell_type": "code",
      "source": [
        "base = 5\n",
        "height = 3\n",
        "\n",
        "area = 0.5 * base * height\n",
        "print(area)  \n"
      ],
      "metadata": {
        "colab": {
          "base_uri": "https://localhost:8080/"
        },
        "id": "6U9VN2Ieo4BX",
        "outputId": "404dcd49-78a2-4261-89f3-89453cca10b3"
      },
      "execution_count": null,
      "outputs": [
        {
          "output_type": "stream",
          "name": "stdout",
          "text": [
            "7.5\n"
          ]
        }
      ]
    },
    {
      "cell_type": "markdown",
      "source": [
        "4.Write a Python program to swap two variables?\n",
        "Swap two variables:\n"
      ],
      "metadata": {
        "id": "Ht2r0LMXo6Jn"
      }
    },
    {
      "cell_type": "code",
      "source": [
        "a = 5\n",
        "b = 3\n",
        "\n",
        "# before swapping\n",
        "print(\"Before swapping:\")\n",
        "print(\"a =\", a)  \n",
        "print(\"b =\", b)  \n",
        "# swapping\n",
        "a, b = b, a\n",
        "\n",
        "# after swapping\n",
        "print(\"After swapping:\")\n",
        "print(\"a =\", a)  \n",
        "print(\"b =\", b)  \n"
      ],
      "metadata": {
        "colab": {
          "base_uri": "https://localhost:8080/"
        },
        "id": "3RMvHS6qo70g",
        "outputId": "64cb60a1-6837-4d6b-ce88-a6e91c52893c"
      },
      "execution_count": null,
      "outputs": [
        {
          "output_type": "stream",
          "name": "stdout",
          "text": [
            "Before swapping:\n",
            "a = 5\n",
            "b = 3\n",
            "After swapping:\n",
            "a = 3\n",
            "b = 5\n"
          ]
        }
      ]
    },
    {
      "cell_type": "markdown",
      "source": [
        "5.Write a Python program to generate a random number?\n",
        " Generate a random number:\n"
      ],
      "metadata": {
        "id": "9LJaCW8VpR5o"
      }
    },
    {
      "cell_type": "code",
      "source": [
        "import random\n",
        "\n",
        "# generate a random number between 1 and 10\n",
        "num = random.randint(1, 10)\n",
        "print(num)\n"
      ],
      "metadata": {
        "id": "8Q2sW-_xpTti",
        "outputId": "632c1636-9fc6-4ae1-ba88-bdc15b0dedb4",
        "colab": {
          "base_uri": "https://localhost:8080/"
        }
      },
      "execution_count": null,
      "outputs": [
        {
          "output_type": "stream",
          "name": "stdout",
          "text": [
            "1\n"
          ]
        }
      ]
    }
  ]
}