{
  "nbformat": 4,
  "nbformat_minor": 0,
  "metadata": {
    "colab": {
      "provenance": [],
      "include_colab_link": true
    },
    "kernelspec": {
      "name": "python3",
      "display_name": "Python 3"
    },
    "language_info": {
      "name": "python"
    }
  },
  "cells": [
    {
      "cell_type": "markdown",
      "metadata": {
        "id": "view-in-github",
        "colab_type": "text"
      },
      "source": [
        "<a href=\"https://colab.research.google.com/github/athulsunny/INeuron_Course_Assignments/blob/main/Programming_Assignments_1.ipynb\" target=\"_parent\"><img src=\"https://colab.research.google.com/assets/colab-badge.svg\" alt=\"Open In Colab\"/></a>"
      ]
    },
    {
      "cell_type": "markdown",
      "source": [
        "1.Write a Python program to print \"Hello Python\"?"
      ],
      "metadata": {
        "id": "S-6btMgsoh0b"
      }
    },
    {
      "cell_type": "code",
      "execution_count": 1,
      "metadata": {
        "colab": {
          "base_uri": "https://localhost:8080/"
        },
        "id": "wuFvdiXNoUEC",
        "outputId": "534b74d7-9efe-43b0-bef7-8537bb0df6ce"
      },
      "outputs": [
        {
          "output_type": "stream",
          "name": "stdout",
          "text": [
            "Hello Python\n"
          ]
        }
      ],
      "source": [
        "\n",
        "print(\"Hello Python\")\n"
      ]
    },
    {
      "cell_type": "markdown",
      "source": [
        "2.Write a Python program to do arithmetical operations addition and division.?\n",
        "Perform addition and division:\n"
      ],
      "metadata": {
        "id": "laOgdSqBol0J"
      }
    },
    {
      "cell_type": "code",
      "source": [
        "a = 5\n",
        "b = 3\n",
        "\n",
        "# addition\n",
        "c = a + b\n",
        "print(c)  # output: 8\n",
        "\n",
        "# division\n",
        "d = a / b\n",
        "print(d)\n"
      ],
      "metadata": {
        "colab": {
          "base_uri": "https://localhost:8080/"
        },
        "id": "EineSodFonEC",
        "outputId": "ee1de365-392b-4983-f880-a1f2c7cd4647"
      },
      "execution_count": 2,
      "outputs": [
        {
          "output_type": "stream",
          "name": "stdout",
          "text": [
            "8\n",
            "1.6666666666666667\n"
          ]
        }
      ]
    },
    {
      "cell_type": "markdown",
      "source": [
        "3.Write a Python program to find the area of a triangle?"
      ],
      "metadata": {
        "id": "iv8oJfiGoxUC"
      }
    },
    {
      "cell_type": "code",
      "source": [
        "base = 5\n",
        "height = 3\n",
        "\n",
        "area = 0.5 * base * height\n",
        "print(area)\n"
      ],
      "metadata": {
        "colab": {
          "base_uri": "https://localhost:8080/"
        },
        "id": "6U9VN2Ieo4BX",
        "outputId": "26fbe423-af5e-4ef6-e4ee-3d67918f3608"
      },
      "execution_count": 3,
      "outputs": [
        {
          "output_type": "stream",
          "name": "stdout",
          "text": [
            "7.5\n"
          ]
        }
      ]
    },
    {
      "cell_type": "markdown",
      "source": [
        "4.Write a Python program to swap two variables?\n",
        "Swap two variables:\n"
      ],
      "metadata": {
        "id": "Ht2r0LMXo6Jn"
      }
    },
    {
      "cell_type": "code",
      "source": [
        "a = 5\n",
        "b = 3\n",
        "\n",
        "# before swapping\n",
        "print(\"Before swapping:\")\n",
        "print(\"a =\", a)\n",
        "print(\"b =\", b)\n",
        "# swapping\n",
        "a, b = b, a\n",
        "\n",
        "# after swapping\n",
        "print(\"After swapping:\")\n",
        "print(\"a =\", a)\n",
        "print(\"b =\", b)\n"
      ],
      "metadata": {
        "colab": {
          "base_uri": "https://localhost:8080/"
        },
        "id": "3RMvHS6qo70g",
        "outputId": "7c7265d1-9abf-42f1-ec9b-06292db5dd02"
      },
      "execution_count": 4,
      "outputs": [
        {
          "output_type": "stream",
          "name": "stdout",
          "text": [
            "Before swapping:\n",
            "a = 5\n",
            "b = 3\n",
            "After swapping:\n",
            "a = 3\n",
            "b = 5\n"
          ]
        }
      ]
    },
    {
      "cell_type": "markdown",
      "source": [
        "5.Write a Python program to generate a random number?\n",
        " Generate a random number:\n"
      ],
      "metadata": {
        "id": "9LJaCW8VpR5o"
      }
    },
    {
      "cell_type": "code",
      "source": [
        "import random\n",
        "\n",
        "# generate a random number between 1 and 10\n",
        "num = random.randint(1, 10)\n",
        "print(num)\n"
      ],
      "metadata": {
        "id": "8Q2sW-_xpTti",
        "outputId": "cfa27dac-1e44-4738-917b-683aceab2e14",
        "colab": {
          "base_uri": "https://localhost:8080/"
        }
      },
      "execution_count": 5,
      "outputs": [
        {
          "output_type": "stream",
          "name": "stdout",
          "text": [
            "7\n"
          ]
        }
      ]
    }
  ]
}