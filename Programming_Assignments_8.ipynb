{
  "nbformat": 4,
  "nbformat_minor": 0,
  "metadata": {
    "colab": {
      "provenance": [],
      "include_colab_link": true
    },
    "kernelspec": {
      "name": "python3",
      "display_name": "Python 3"
    },
    "language_info": {
      "name": "python"
    }
  },
  "cells": [
    {
      "cell_type": "markdown",
      "metadata": {
        "id": "view-in-github",
        "colab_type": "text"
      },
      "source": [
        "<a href=\"https://colab.research.google.com/github/athulsunny/INeuron_Course_Assignments/blob/main/Programming_Assignments_8.ipynb\" target=\"_parent\"><img src=\"https://colab.research.google.com/assets/colab-badge.svg\" alt=\"Open In Colab\"/></a>"
      ]
    },
    {
      "cell_type": "markdown",
      "source": [
        "1. Python Program to Add Two Matrices:"
      ],
      "metadata": {
        "id": "jst6_0I-QChV"
      }
    },
    {
      "cell_type": "code",
      "execution_count": 1,
      "metadata": {
        "colab": {
          "base_uri": "https://localhost:8080/"
        },
        "id": "3Ihuo1sGP4J-",
        "outputId": "dd57c3d8-3b9c-49a0-983e-e0598bea46b1"
      },
      "outputs": [
        {
          "output_type": "stream",
          "name": "stdout",
          "text": [
            "[11, 13, 15]\n",
            "[17, 19, 21]\n",
            "[23, 25, 27]\n"
          ]
        }
      ],
      "source": [
        "matrix1 = [[1, 2, 3],\n",
        "           [4, 5, 6],\n",
        "           [7, 8, 9]]\n",
        "\n",
        "matrix2 = [[10, 11, 12],\n",
        "           [13, 14, 15],\n",
        "           [16, 17, 18]]\n",
        "\n",
        "# Initialize a result matrix with all zeros\n",
        "result = [[0, 0, 0],\n",
        "          [0, 0, 0],\n",
        "          [0, 0, 0]]\n",
        "\n",
        "# Iterate through each element of the matrices and add them\n",
        "for i in range(len(matrix1)):\n",
        "    for j in range(len(matrix1[0])):\n",
        "        result[i][j] = matrix1[i][j] + matrix2[i][j]\n",
        "\n",
        "# Print the result\n",
        "for r in result:\n",
        "    print(r)\n"
      ]
    },
    {
      "cell_type": "markdown",
      "source": [
        "2. Python Program to Multiply Two Matrices:"
      ],
      "metadata": {
        "id": "9Z0fxLQvQBn9"
      }
    },
    {
      "cell_type": "code",
      "source": [
        "matrix1 = [[1, 2, 3],\n",
        "           [4, 5, 6],\n",
        "           [7, 8, 9]]\n",
        "\n",
        "matrix2 = [[10, 11, 12],\n",
        "           [13, 14, 15],\n",
        "           [16, 17, 18]]\n",
        "\n",
        "# Initialize a result matrix with all zeros\n",
        "result = [[0, 0, 0],\n",
        "          [0, 0, 0],\n",
        "          [0, 0, 0]]\n",
        "\n",
        "# Iterate through each element of the matrices and multiply them\n",
        "for i in range(len(matrix1)):\n",
        "    for j in range(len(matrix2[0])):\n",
        "        for k in range(len(matrix2)):\n",
        "            result[i][j] += matrix1[i][k] * matrix2[k][j]\n",
        "\n",
        "# Print the result\n",
        "for r in result:\n",
        "    print(r)\n"
      ],
      "metadata": {
        "colab": {
          "base_uri": "https://localhost:8080/"
        },
        "id": "kJ2GjvqjQBe4",
        "outputId": "31b28fdc-7398-48b8-9478-dd7d7e2fbca8"
      },
      "execution_count": 2,
      "outputs": [
        {
          "output_type": "stream",
          "name": "stdout",
          "text": [
            "[84, 90, 96]\n",
            "[201, 216, 231]\n",
            "[318, 342, 366]\n"
          ]
        }
      ]
    },
    {
      "cell_type": "markdown",
      "source": [
        "3. Python Program to Transpose a Matrix:"
      ],
      "metadata": {
        "id": "LPWAuh9DQQeF"
      }
    },
    {
      "cell_type": "code",
      "source": [
        "matrix = [[1, 2, 3],\n",
        "          [4, 5, 6],\n",
        "          [7, 8, 9]]\n",
        "\n",
        "# Initialize a result matrix with all zeros\n",
        "result = [[0, 0, 0],\n",
        "          [0, 0, 0],\n",
        "          [0, 0, 0]]\n",
        "\n",
        "# Iterate through each element of the matrix and transpose it\n",
        "for i in range(len(matrix)):\n",
        "    for j in range(len(matrix[0])):\n",
        "        result[j][i] = matrix[i][j]\n",
        "\n",
        "# Print the result\n",
        "for r in result:\n",
        "    print(r)\n"
      ],
      "metadata": {
        "colab": {
          "base_uri": "https://localhost:8080/"
        },
        "id": "LvN8makzQQlU",
        "outputId": "4b7374eb-1c0c-4d07-f366-766924b8b441"
      },
      "execution_count": 3,
      "outputs": [
        {
          "output_type": "stream",
          "name": "stdout",
          "text": [
            "[1, 4, 7]\n",
            "[2, 5, 8]\n",
            "[3, 6, 9]\n"
          ]
        }
      ]
    },
    {
      "cell_type": "markdown",
      "source": [
        "4. Python Program to Sort Words in Alphabetic Order:"
      ],
      "metadata": {
        "id": "t0PnzT9JQXZI"
      }
    },
    {
      "cell_type": "code",
      "source": [
        "words = 'this is a string of words'\n",
        "\n",
        "# Split the words into a list\n",
        "word_list = words.split()\n",
        "\n",
        "# Sort the list of words\n",
        "sorted_words = sorted(word_list)\n",
        "\n",
        "# Print the sorted words\n",
        "print(' '.join(sorted_words))\n"
      ],
      "metadata": {
        "colab": {
          "base_uri": "https://localhost:8080/"
        },
        "id": "uGVm4bu3QXfN",
        "outputId": "8421d97b-135c-4a4f-81d6-c46c5a351108"
      },
      "execution_count": 4,
      "outputs": [
        {
          "output_type": "stream",
          "name": "stdout",
          "text": [
            "a is of string this words\n"
          ]
        }
      ]
    },
    {
      "cell_type": "markdown",
      "source": [
        "5. Python Program to Remove Punctuation From a String:"
      ],
      "metadata": {
        "id": "jrz7bTS1QbWk"
      }
    },
    {
      "cell_type": "code",
      "source": [
        "import string\n",
        "\n",
        "# Define a string with punctuation\n",
        "string_with_punctuation = \"Hello, world! How are you today?\"\n",
        "\n",
        "# Remove the punctuation\n",
        "string_without_punctuation = string_with_punctuation.translate(str.maketrans(\"\", \"\", string.punctuation))\n",
        "\n",
        "# Print the string without punctuation\n",
        "print(string_without_punctuation)\n"
      ],
      "metadata": {
        "colab": {
          "base_uri": "https://localhost:8080/"
        },
        "id": "lKtTobwAQbg5",
        "outputId": "ac2d6171-5c32-41d7-8723-5ae80d6c8e87"
      },
      "execution_count": 5,
      "outputs": [
        {
          "output_type": "stream",
          "name": "stdout",
          "text": [
            "Hello world How are you today\n"
          ]
        }
      ]
    }
  ]
}