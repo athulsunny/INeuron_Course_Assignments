{
  "nbformat": 4,
  "nbformat_minor": 0,
  "metadata": {
    "colab": {
      "provenance": []
    },
    "kernelspec": {
      "name": "python3",
      "display_name": "Python 3"
    },
    "language_info": {
      "name": "python"
    }
  },
  "cells": [
    {
      "cell_type": "markdown",
      "source": [
        "1.What is indentation error? Why indentation is important? Give one simple example?"
      ],
      "metadata": {
        "id": "-30s2qmZE7qM"
      }
    },
    {
      "cell_type": "markdown",
      "source": [
        "An indentation error is a type of syntax error that occurs when the code block is not properly indented\n",
        "\n",
        "Indentation is important because it helps to improve the readability and organization of code."
      ],
      "metadata": {
        "id": "_p-chXPcE7--"
      }
    },
    {
      "cell_type": "code",
      "source": [
        "My_Name_is = input()\n",
        "     print(f\"Your name is = {My_Name_is} \")"
      ],
      "metadata": {
        "id": "cNKNpzDxFWJ8"
      },
      "execution_count": null,
      "outputs": []
    },
    {
      "cell_type": "markdown",
      "source": [
        "2.Correct the following code and write the comment where you made the correction?"
      ],
      "metadata": {
        "id": "sVHpth_5mRu3"
      }
    },
    {
      "cell_type": "code",
      "source": [
        "class_started = input(\"Hey friend, is class started?: [0-False/1-True]\") #bool has removed\n",
        "\n",
        "if class_started == \"0\" or class_started == \"False\": #Add if condition for checking 0 or false and convert it into empty string\n",
        "   class_started = \"\"\n",
        "\n",
        "   print(\"Since class started...\")\n",
        "   print(\"Lets concentrate\")\n",
        "else:\n",
        "   print(\"Since class is not started...\")\n",
        "   print(\"let's revise\")"
      ],
      "metadata": {
        "colab": {
          "base_uri": "https://localhost:8080/"
        },
        "id": "QfwgmRNlmTLk",
        "outputId": "c31a0038-e7a3-45d4-909c-2437d8f06f48"
      },
      "execution_count": null,
      "outputs": [
        {
          "output_type": "stream",
          "name": "stdout",
          "text": [
            "Hey friend, is class started?: [0-False/1-True]\n",
            "Since class is not started...\n",
            "let's revise\n"
          ]
        }
      ]
    },
    {
      "cell_type": "markdown",
      "source": [
        "3.Use if else condition to verify that dataype of input() method in python is always string."
      ],
      "metadata": {
        "id": "mKZMNwwooiQl"
      }
    },
    {
      "cell_type": "code",
      "source": [
        "Your_Name = input(\"What is your name :\")\n",
        "\n",
        "if type(Your_Name) == str:\n",
        "  print(type(Your_Name))\n",
        "  print(\"It is a string\")\n",
        "else:\n",
        "  print(\"It is Not a string\")"
      ],
      "metadata": {
        "colab": {
          "base_uri": "https://localhost:8080/"
        },
        "id": "krPzwFAJnuCz",
        "outputId": "b528ef80-1612-4df0-cd09-cdd5e54128b4"
      },
      "execution_count": null,
      "outputs": [
        {
          "output_type": "stream",
          "name": "stdout",
          "text": [
            "What is your name :\"l\"\n",
            "<class 'str'>\n",
            "It is a string\n"
          ]
        }
      ]
    },
    {
      "cell_type": "markdown",
      "source": [
        "4.Take 3 variables and assign integer values to them. Find the largest variable, by only using the if and else conditions."
      ],
      "metadata": {
        "id": "ZW-lXqZVqh6C"
      }
    },
    {
      "cell_type": "code",
      "source": [
        "A= 100\n",
        "B= 300\n",
        "C= 200\n",
        "\n",
        "if A< B:\n",
        "  if B< C:\n",
        "    print(\"C is greater\")\n",
        "  else:\n",
        "    print(\"B is greater\")\n",
        "else:\n",
        "  print(\"A is greater\")"
      ],
      "metadata": {
        "colab": {
          "base_uri": "https://localhost:8080/"
        },
        "id": "AGS7-eA_qkTF",
        "outputId": "08ec6d4c-bbea-4ecf-b6e3-c34305bb9051"
      },
      "execution_count": null,
      "outputs": [
        {
          "output_type": "stream",
          "name": "stdout",
          "text": [
            "B is greater\n"
          ]
        }
      ]
    },
    {
      "cell_type": "markdown",
      "source": [
        "5.What would be the solution?\n",
        "\n",
        "  1.True\n",
        "\n",
        "  2.False"
      ],
      "metadata": {
        "id": "Gb0KhNXB2Ui8"
      }
    },
    {
      "cell_type": "code",
      "source": [
        "a = 6\n",
        "b = 10\n",
        "print( not ( not a == 10 or not b == 10) )\n"
      ],
      "metadata": {
        "colab": {
          "base_uri": "https://localhost:8080/"
        },
        "id": "ImYzhSCb2coc",
        "outputId": "6020e531-0dcd-4c46-b3f5-b2aa3ce5c179"
      },
      "execution_count": null,
      "outputs": [
        {
          "output_type": "stream",
          "name": "stdout",
          "text": [
            "False\n"
          ]
        }
      ]
    },
    {
      "cell_type": "markdown",
      "source": [
        "ans: False"
      ],
      "metadata": {
        "id": "pBAhxzqF2fsi"
      }
    },
    {
      "cell_type": "markdown",
      "source": [
        "6.Find the answer as well as find out the reason behind the result? -\n",
        "\n"
      ],
      "metadata": {
        "id": "fFpDst8a2xSp"
      }
    },
    {
      "cell_type": "code",
      "source": [
        "#Case 1\n",
        " A = 5.0\n",
        "  B = 10/2\n",
        "  print(A is B)\n",
        "  # False\n",
        "  # A is a float Data type and B is arithematic . Thus Both are different\n",
        "  # The A and B values are different thus the address also different"
      ],
      "metadata": {
        "colab": {
          "base_uri": "https://localhost:8080/",
          "height": 130
        },
        "id": "UwXvrNx722Av",
        "outputId": "78d0680f-c379-4b26-ecc4-38bccf882911"
      },
      "execution_count": null,
      "outputs": [
        {
          "output_type": "error",
          "ename": "IndentationError",
          "evalue": "ignored",
          "traceback": [
            "\u001b[0;36m  File \u001b[0;32m\"<ipython-input-32-2459771066df>\"\u001b[0;36m, line \u001b[0;32m2\u001b[0m\n\u001b[0;31m    A = 5.0\u001b[0m\n\u001b[0m    ^\u001b[0m\n\u001b[0;31mIndentationError\u001b[0m\u001b[0;31m:\u001b[0m unexpected indent\n"
          ]
        }
      ]
    },
    {
      "cell_type": "code",
      "source": [
        "# Case 2\n",
        "  A = 5.0\n",
        "  B = int(10/2)\n",
        "  print(A is B)\n",
        " # False\n",
        "  # A is a float type and B is an integer type casted thus it will show error"
      ],
      "metadata": {
        "id": "gmeAuE9w3rBd"
      },
      "execution_count": null,
      "outputs": []
    },
    {
      "cell_type": "code",
      "source": [
        "#Case 3\n",
        " A = 5.0\n",
        "  B = float(10/2)\n",
        "  print(A is B)\n",
        " # False\n",
        "  # type casted to float"
      ],
      "metadata": {
        "id": "EMoeueDc5Eb9"
      },
      "execution_count": null,
      "outputs": []
    },
    {
      "cell_type": "markdown",
      "source": [
        "[link text](https://)### Try to understand the following examples and answer the question based on it -\n",
        "\n",
        "**Arithmatic Operators**\n",
        "\n",
        "|Operation|Meaning|\n",
        "|:-:|:-:|\n",
        "| **+** |addition|\n",
        "| **-** |subtraction|\n",
        "| **\\*** |multiplication|\n",
        "| **/** |true division|\n",
        "| **//** |integer division|\n",
        "| **%** |the modulo operator|\n",
        "\n",
        "\n",
        "Here `+`, `-`, `*`, `/` are regular arithmatic operators. Lets look at the `//` and `%` operators\n",
        "\n",
        "Usecase or examples -\n",
        "\n",
        "```python\n",
        "var_a = 5\n",
        "var_b = 25\n",
        "integer_division = var_b // var_a\n",
        "print(f\"integer division: {var_b}/{var_a}={integer_division}\")\n",
        "```\n",
        "\n",
        "OUTPUT: integer division: 25/5=5\n",
        "\n",
        "```python\n",
        "var_a = 3\n",
        "var_b = 25\n",
        "integer_division = var_b // var_a\n",
        "print(f\"integer division: {var_b}/{var_a}={integer_division}\")\n",
        "```\n",
        "\n",
        "OUTPUT: integer division: 25/3=8\n",
        "\n",
        "```python\n",
        "var_a = 5\n",
        "var_b = 25\n",
        "remainder = var_b % var_a\n",
        "print(f\"remainder: {var_b}/{var_a} is {remainder}\")\n",
        "```\n",
        "\n",
        "OUTPUT: remainder: 25/5 is 0\n",
        "\n",
        "```python\n",
        "var_a = 3\n",
        "var_b = 25\n",
        "remainder = var_b % var_a\n",
        "print(f\"remainder: {var_b}/{var_a} is {remainder}\")\n",
        "```\n",
        "\n",
        "OUTPUT: remainder: 25/3 is 1\n"
      ],
      "metadata": {
        "id": "FzzKPTIk7Chw"
      }
    },
    {
      "cell_type": "markdown",
      "source": [
        "7.Write a program that asks the user to enter a number. You should print out a message to the user, either “That number is divisible by either 3 or 5”, or “That number is not divisible by either 3 or 5”. Be sure to consider the data type of the input you are taking in from the user. Use a single if/else block to solve this problem."
      ],
      "metadata": {
        "id": "_-6y7vMU8ikD"
      }
    },
    {
      "cell_type": "code",
      "source": [
        "number = int(input(\"Please enter the number to check for the divisibility by 3 or 5 : \"))\n",
        "\n",
        "if number % 3 ==0  or number % 5 == 0:\n",
        "  print(\"The number is either divisible by 3 or 5\")\n",
        "else:\n",
        "  print(\"The number is not divisble by 3 or 5\")"
      ],
      "metadata": {
        "id": "et_-h4N28oeZ"
      },
      "execution_count": null,
      "outputs": []
    },
    {
      "cell_type": "markdown",
      "source": [
        "8.\n",
        "Take user input for length and width. Then calculate the area of rectangle. Also print as per length and width whether its a square of rectangle."
      ],
      "metadata": {
        "id": "G7IOW2W382Kg"
      }
    },
    {
      "cell_type": "code",
      "source": [
        "length = int(input(\"Please enter the length in metres: \"))\n",
        "width = int(input(\"Please enter the width in metres: \"))\n",
        "\n",
        "area= length * width\n",
        "\n",
        "if (length == width):\n",
        "  print(f\"As the length {length} metre and width {width} metres are same so it is a square\")\n",
        "\n",
        "else:\n",
        "  print(f\"The area of the rectangle with length {length} metres and width {width} metres is : {area} sq. metres\")"
      ],
      "metadata": {
        "colab": {
          "base_uri": "https://localhost:8080/"
        },
        "id": "ZXxKQv1x83Q3",
        "outputId": "5abff87f-7bee-4889-e8e7-bb23ea032fbc"
      },
      "execution_count": null,
      "outputs": [
        {
          "output_type": "stream",
          "name": "stdout",
          "text": [
            "Please enter the length in metres: 15\n",
            "Please enter the width in metres: 14\n",
            "The area of the rectangle with length 15 metres and width 14 metres is : 210 sq. metres\n"
          ]
        }
      ]
    },
    {
      "cell_type": "markdown",
      "source": [
        "9.Take two variable radius_1 and radius_2 and calculate the area of circle_1 and circle_2. Also print which circle has large area. If area is equal then print area is equal."
      ],
      "metadata": {
        "id": "MFPrs4wV9LeM"
      }
    },
    {
      "cell_type": "code",
      "source": [
        "radius_1 = int(input(\"Please enter the radius of the 1st circle in mts : \"))\n",
        "radius_2 = int(input(\"Please enter the radius of the 2nd circle in mts : \"))\n",
        "\n",
        "area_circle_1 =  radius_1 ** 2\n",
        "area_circle_2 =  radius_2 ** 2\n",
        "\n",
        "if area_circle_1 == area_circle_2:\n",
        "  print(\"Both the circles have equal Area\")\n",
        "else:\n",
        "  if area_circle_1 > area_circle_2:\n",
        "    print(f\"Circle one has larger area of {area_circle_1} sq mts \")\n",
        "  else:\n",
        "    print(f\"Circle two has larger area of {area_circle_2} sq. mts \")"
      ],
      "metadata": {
        "id": "sTX-6XSD9MUM"
      },
      "execution_count": null,
      "outputs": []
    },
    {
      "cell_type": "markdown",
      "source": [
        "10.Check whether a year is leap year or not. Use nested if...else to solve this problem. A leap year is exactly divisible by 4 except for century years (years ending with 00). The century year is a leap year only if it is perfectly divisible by 400."
      ],
      "metadata": {
        "id": "dJTaCJZW9Vih"
      }
    },
    {
      "cell_type": "code",
      "source": [
        "leap_year = 2050\n",
        "\n",
        "if leap_year % 4 == 0 :\n",
        "  if leap_year % 400 ==0:\n",
        "    print(\"It is a leap year\")\n",
        "  else:\n",
        "    print(\"Not a leap year\")\n",
        "else:\n",
        "  print(\"It is not a leap year\")"
      ],
      "metadata": {
        "colab": {
          "base_uri": "https://localhost:8080/"
        },
        "id": "_GAu_eDs9YiM",
        "outputId": "8ae43e7b-aa14-438b-9521-99f58744d503"
      },
      "execution_count": null,
      "outputs": [
        {
          "output_type": "stream",
          "name": "stdout",
          "text": [
            "It is not a leap year\n"
          ]
        }
      ]
    },
    {
      "cell_type": "code",
      "source": [],
      "metadata": {
        "id": "0yhmmt3g9qtC"
      },
      "execution_count": null,
      "outputs": []
    }
  ]
}
