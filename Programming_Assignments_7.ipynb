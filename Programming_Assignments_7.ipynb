{
  "nbformat": 4,
  "nbformat_minor": 0,
  "metadata": {
    "colab": {
      "provenance": [],
      "include_colab_link": true
    },
    "kernelspec": {
      "name": "python3",
      "display_name": "Python 3"
    },
    "language_info": {
      "name": "python"
    }
  },
  "cells": [
    {
      "cell_type": "markdown",
      "metadata": {
        "id": "view-in-github",
        "colab_type": "text"
      },
      "source": [
        "<a href=\"https://colab.research.google.com/github/athulsunny/INeuron_Course_Assignments/blob/main/Programming_Assignments_7.ipynb\" target=\"_parent\"><img src=\"https://colab.research.google.com/assets/colab-badge.svg\" alt=\"Open In Colab\"/></a>"
      ]
    },
    {
      "cell_type": "markdown",
      "source": [
        "1. Python program to find the sum of array:"
      ],
      "metadata": {
        "id": "NrIqvi0oPd9Z"
      }
    },
    {
      "cell_type": "code",
      "source": [
        "array = [10, 20, 30, 40, 50]\n",
        "\n",
        "# using sum() function\n",
        "array_sum = sum(array)\n",
        "\n",
        "print(\"Sum of array elements:\", array_sum)\n"
      ],
      "metadata": {
        "colab": {
          "base_uri": "https://localhost:8080/"
        },
        "id": "0-T2GNPtPe72",
        "outputId": "84c4e10b-15fc-49ff-8dcc-2938d7b820a6"
      },
      "execution_count": 1,
      "outputs": [
        {
          "output_type": "stream",
          "name": "stdout",
          "text": [
            "Sum of array elements: 150\n"
          ]
        }
      ]
    },
    {
      "cell_type": "markdown",
      "source": [
        "2. Python program to find the largest element in an array:"
      ],
      "metadata": {
        "id": "-TT32FZDPfTA"
      }
    },
    {
      "cell_type": "code",
      "execution_count": 2,
      "metadata": {
        "colab": {
          "base_uri": "https://localhost:8080/"
        },
        "id": "CJmLcIu9PbVr",
        "outputId": "62b7a4e5-a33b-49d3-c8ba-6bb4ea3a074e"
      },
      "outputs": [
        {
          "output_type": "stream",
          "name": "stdout",
          "text": [
            "Largest element in the array: 50\n"
          ]
        }
      ],
      "source": [
        "array = [10, 25, 37, 48, 50]\n",
        "\n",
        "# using max() function\n",
        "largest = max(array)\n",
        "\n",
        "print(\"Largest element in the array:\", largest)\n"
      ]
    },
    {
      "cell_type": "markdown",
      "source": [
        "3. Python program for array rotation:"
      ],
      "metadata": {
        "id": "U2NbQB1jPk5c"
      }
    },
    {
      "cell_type": "code",
      "source": [
        "def rotate_array(arr, d):\n",
        "    # rotate the array by d elements\n",
        "    for i in range(d):\n",
        "        temp = arr[0]\n",
        "        for j in range(len(arr)-1):\n",
        "            arr[j] = arr[j+1]\n",
        "        arr[-1] = temp\n",
        "    return arr\n",
        "\n",
        "# example array\n",
        "arr = [1, 2, 3, 4, 5]\n",
        "\n",
        "# rotate the array by 2 elements\n",
        "d = 2\n",
        "rotated_arr = rotate_array(arr, d)\n",
        "\n",
        "# print the rotated array\n",
        "print(rotated_arr)\n"
      ],
      "metadata": {
        "colab": {
          "base_uri": "https://localhost:8080/"
        },
        "id": "Lr3TOroEPk-I",
        "outputId": "f81c008d-5adf-435c-fb76-18c0f9297270"
      },
      "execution_count": 3,
      "outputs": [
        {
          "output_type": "stream",
          "name": "stdout",
          "text": [
            "[3, 4, 5, 1, 2]\n"
          ]
        }
      ]
    },
    {
      "cell_type": "markdown",
      "source": [
        "4. Python program to split the array and add the first part to the end:"
      ],
      "metadata": {
        "id": "V2ePSJYcPost"
      }
    },
    {
      "cell_type": "code",
      "source": [
        "def split_and_add(arr, n):\n",
        "    # split the array and add the first part to the end\n",
        "    arr = arr[n:] + arr[:n]\n",
        "    return arr\n",
        "\n",
        "# example array\n",
        "arr = [1, 2, 3, 4, 5]\n",
        "\n",
        "# split the array and add the first part to the end\n",
        "n = 2\n",
        "new_arr = split_and_add(arr, n)\n",
        "\n",
        "# print the new array\n",
        "print(new_arr)\n"
      ],
      "metadata": {
        "colab": {
          "base_uri": "https://localhost:8080/"
        },
        "id": "vj9jCTqOPow4",
        "outputId": "1dc26c1d-c0a5-404e-81c9-4fd7a254eb88"
      },
      "execution_count": 4,
      "outputs": [
        {
          "output_type": "stream",
          "name": "stdout",
          "text": [
            "[3, 4, 5, 1, 2]\n"
          ]
        }
      ]
    },
    {
      "cell_type": "markdown",
      "source": [
        "5. Python program to check if a given array is monotonic:"
      ],
      "metadata": {
        "id": "Y25yZMvuPsHX"
      }
    },
    {
      "cell_type": "code",
      "source": [
        "def is_monotonic(arr):\n",
        "    # check if array is monotonic\n",
        "    return all(arr[i] <= arr[i+1] for i in range(len(arr)-1)) or all(arr[i] >= arr[i+1] for i in range(len(arr)-1))\n",
        "\n",
        "# example arrays\n",
        "arr1 = [1, 2, 3, 4, 5]\n",
        "arr2 = [5, 4, 3, 2, 1]\n",
        "arr3 = [1, 2, 3, 2, 1]\n",
        "\n",
        "# check if the arrays are monotonic\n",
        "print(is_monotonic(arr1))\n",
        "print(is_monotonic(arr2))\n",
        "print(is_monotonic(arr3))\n"
      ],
      "metadata": {
        "colab": {
          "base_uri": "https://localhost:8080/"
        },
        "id": "5ocyN4pFPt7n",
        "outputId": "1b872e5f-3fd0-46e1-d9b1-cf9994975e2d"
      },
      "execution_count": 5,
      "outputs": [
        {
          "output_type": "stream",
          "name": "stdout",
          "text": [
            "True\n",
            "True\n",
            "False\n"
          ]
        }
      ]
    }
  ]
}