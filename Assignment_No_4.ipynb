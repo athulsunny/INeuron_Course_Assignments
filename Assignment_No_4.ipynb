{
  "nbformat": 4,
  "nbformat_minor": 0,
  "metadata": {
    "colab": {
      "provenance": []
    },
    "kernelspec": {
      "name": "python3",
      "display_name": "Python 3"
    },
    "language_info": {
      "name": "python"
    }
  },
  "cells": [
    {
      "cell_type": "markdown",
      "source": [
        "1. Find the largest number from the given list, use for loop."
      ],
      "metadata": {
        "id": "GwbNXc7zMwz8"
      }
    },
    {
      "cell_type": "code",
      "execution_count": null,
      "metadata": {
        "colab": {
          "base_uri": "https://localhost:8080/"
        },
        "id": "ZkLV3300Mnhk",
        "outputId": "64dc82a2-cd7c-4605-a17d-0d1ab3dccf38"
      },
      "outputs": [
        {
          "output_type": "stream",
          "name": "stdout",
          "text": [
            "Largest number in the given list is: 525\n"
          ]
        }
      ],
      "source": [
        "numbers = [12, 75, 150, 180, 145, 525, 50]\n",
        "largest=0\n",
        "for i in numbers:\n",
        "    if largest < i:\n",
        "        largest=i\n",
        "print(f\"Largest number in the given list is: {largest}\")"
      ]
    },
    {
      "cell_type": "markdown",
      "source": [
        "2. Print all the even number between (1, 12)."
      ],
      "metadata": {
        "id": "x26PL1iDM3N7"
      }
    },
    {
      "cell_type": "code",
      "source": [
        "\n",
        "for i in range(1,13):\n",
        "    if not i%2==0:\n",
        "        print(i)\n",
        ""
      ],
      "metadata": {
        "colab": {
          "base_uri": "https://localhost:8080/"
        },
        "id": "qwJewWkGM71T",
        "outputId": "9c29b66b-a1ba-4b2c-ce32-1b96a2344e4f"
      },
      "execution_count": null,
      "outputs": [
        {
          "output_type": "stream",
          "name": "stdout",
          "text": [
            "1\n",
            "3\n",
            "5\n",
            "7\n",
            "9\n",
            "11\n"
          ]
        }
      ]
    },
    {
      "cell_type": "markdown",
      "source": [
        "3. Calculate the sum of all numbers from 1 to a given number\n",
        "\n",
        "Expected Output:\n",
        "\n",
        "Enter number 10\n",
        "\n",
        "Sum is: 55"
      ],
      "metadata": {
        "id": "FZguSrLBNASH"
      }
    },
    {
      "cell_type": "code",
      "source": [
        "num=int(input(\"Enter a integer number: \"))\n",
        "sum=0\n",
        "for i in range(1,num+1):\n",
        "    sum+=i              #adding each number in list with sum\n",
        "print(f\"Sum is: {sum}\")\n"
      ],
      "metadata": {
        "colab": {
          "base_uri": "https://localhost:8080/"
        },
        "id": "Tvj8T7J1NBSB",
        "outputId": "ba9dd4cd-f933-4bed-9006-be09b3feecd1"
      },
      "execution_count": null,
      "outputs": [
        {
          "output_type": "stream",
          "name": "stdout",
          "text": [
            "Enter a integer number: 10\n",
            "Sum is: 55\n"
          ]
        }
      ]
    },
    {
      "cell_type": "markdown",
      "source": [
        "4. Write a program to display only those numbers from a list that satisfy the following conditions\n",
        "\n",
        "    The number must be divisible by five\n",
        "\n",
        "    If the number is greater than 150, then skip it and move to the next number\n",
        "\n",
        "    If the number is greater than 500, then stop the loop\n",
        "\n",
        "    #given\n",
        "    numbers = [12, 75, 150, 180, 145, 525, 50]\n",
        "# New Section"
      ],
      "metadata": {
        "id": "du7pbe9wNRx4"
      }
    },
    {
      "cell_type": "code",
      "source": [
        "numbers = [12, 75, 150, 180, 145, 525, 50]\n",
        "for i in numbers:\n",
        "\n",
        "    if i % 5 ==0:\n",
        "        if i > 500:\n",
        "            break\n",
        "        if i>150:\n",
        "            continue\n",
        "        print(i)"
      ],
      "metadata": {
        "colab": {
          "base_uri": "https://localhost:8080/"
        },
        "id": "3gHIOiEZNHN0",
        "outputId": "dee5f828-94ef-43c8-dd1d-d0004ce72c80"
      },
      "execution_count": null,
      "outputs": [
        {
          "output_type": "stream",
          "name": "stdout",
          "text": [
            "75\n",
            "150\n",
            "145\n"
          ]
        }
      ]
    },
    {
      "cell_type": "markdown",
      "source": [
        "5. Print the given list in reverse order.\n",
        "\n",
        "list1 = [10, 20, 30, 40, 50]"
      ],
      "metadata": {
        "id": "tS2kSH8YNdNN"
      }
    },
    {
      "cell_type": "code",
      "source": [
        "list1 = [10, 20, 30, 40, 50]\n",
        "for i in reversed(list1):\n",
        "    print(i,end=\" \")"
      ],
      "metadata": {
        "colab": {
          "base_uri": "https://localhost:8080/"
        },
        "id": "aFzGYMAMNVM6",
        "outputId": "1318532d-69af-4906-ca65-d6bba1279989"
      },
      "execution_count": null,
      "outputs": [
        {
          "output_type": "stream",
          "name": "stdout",
          "text": [
            "50 40 30 20 10 "
          ]
        }
      ]
    },
    {
      "cell_type": "markdown",
      "source": [],
      "metadata": {
        "id": "qKllYW-tNhi1"
      }
    }
  ]
}