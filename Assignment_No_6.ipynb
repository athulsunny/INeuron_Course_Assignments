{
  "nbformat": 4,
  "nbformat_minor": 0,
  "metadata": {
    "colab": {
      "provenance": []
    },
    "kernelspec": {
      "name": "python3",
      "display_name": "Python 3"
    },
    "language_info": {
      "name": "python"
    }
  },
  "cells": [
    {
      "cell_type": "markdown",
      "source": [
        "# 1 write a function which will try to find out len of a string without using an inbuilt len function"
      ],
      "metadata": {
        "id": "Ft7Yx5-TCpEP"
      }
    },
    {
      "cell_type": "code",
      "execution_count": null,
      "metadata": {
        "id": "fo7GRbsWCohX"
      },
      "outputs": [],
      "source": [
        "def custom_len(string):\n",
        "    count = 0\n",
        "    for char in string:\n",
        "        count = count+1\n",
        "    return count\n"
      ]
    },
    {
      "cell_type": "code",
      "source": [
        "custom_len(\"afreeth\")"
      ],
      "metadata": {
        "colab": {
          "base_uri": "https://localhost:8080/"
        },
        "id": "-B1deyrZCwr4",
        "outputId": "a13a33af-d1f0-4d07-afa6-9a2096a83e7b"
      },
      "execution_count": null,
      "outputs": [
        {
          "output_type": "execute_result",
          "data": {
            "text/plain": [
              "7"
            ]
          },
          "metadata": {},
          "execution_count": 7
        }
      ]
    },
    {
      "cell_type": "markdown",
      "source": [
        "# 2 write a function which  will be able to print an index of list element without using an index function"
      ],
      "metadata": {
        "id": "AXxmmBCKDHL_"
      }
    },
    {
      "cell_type": "code",
      "source": [
        "def custom_index(lst, element):\n",
        "    idx = None\n",
        "    for i in range(len(lst)):\n",
        "        if lst[i] == element:\n",
        "            idx = i\n",
        "            break\n",
        "    return idx"
      ],
      "metadata": {
        "id": "r2q6L9GMCzs3"
      },
      "execution_count": null,
      "outputs": []
    },
    {
      "cell_type": "code",
      "source": [
        "custom_index([1,23,4],4)"
      ],
      "metadata": {
        "colab": {
          "base_uri": "https://localhost:8080/",
          "height": 165
        },
        "id": "6l6es3DIKYVg",
        "outputId": "12ffe42a-e9ac-4935-ca77-9efb920ed9a1"
      },
      "execution_count": null,
      "outputs": [
        {
          "output_type": "error",
          "ename": "NameError",
          "evalue": "ignored",
          "traceback": [
            "\u001b[0;31m---------------------------------------------------------------------------\u001b[0m",
            "\u001b[0;31mNameError\u001b[0m                                 Traceback (most recent call last)",
            "\u001b[0;32m<ipython-input-1-ba6a00e087d3>\u001b[0m in \u001b[0;36m<cell line: 1>\u001b[0;34m()\u001b[0m\n\u001b[0;32m----> 1\u001b[0;31m \u001b[0mcustom_index\u001b[0m\u001b[0;34m(\u001b[0m\u001b[0;34m[\u001b[0m\u001b[0;36m1\u001b[0m\u001b[0;34m,\u001b[0m\u001b[0;36m23\u001b[0m\u001b[0;34m,\u001b[0m\u001b[0;36m4\u001b[0m\u001b[0;34m]\u001b[0m\u001b[0;34m,\u001b[0m\u001b[0;36m4\u001b[0m\u001b[0;34m)\u001b[0m\u001b[0;34m\u001b[0m\u001b[0;34m\u001b[0m\u001b[0m\n\u001b[0m",
            "\u001b[0;31mNameError\u001b[0m: name 'custom_index' is not defined"
          ]
        }
      ]
    },
    {
      "cell_type": "markdown",
      "source": [
        "# 3 write a function which will be able to print an ip address of your system"
      ],
      "metadata": {
        "id": "oSdW-ZkoMCMS"
      }
    },
    {
      "cell_type": "code",
      "source": [
        "import socket\n",
        "def get_ip_address():\n",
        "    hostname = socket.gethostname()\n",
        "    ip_address = socket.gethostbyname(hostname)\n",
        "    print(f\"Your IP address is: {ip_address}\")\n",
        ""
      ],
      "metadata": {
        "id": "Wbjang1zKedo"
      },
      "execution_count": null,
      "outputs": []
    },
    {
      "cell_type": "code",
      "source": [
        "get_ip_address()\n"
      ],
      "metadata": {
        "colab": {
          "base_uri": "https://localhost:8080/"
        },
        "id": "wFTHNAB2Lsza",
        "outputId": "41dd9243-0196-4b46-dc59-ed7861cc360a"
      },
      "execution_count": null,
      "outputs": [
        {
          "output_type": "stream",
          "name": "stdout",
          "text": [
            "Your IP address is: 172.28.0.12\n"
          ]
        }
      ]
    },
    {
      "cell_type": "markdown",
      "source": [
        "# 4 write a function which will shutdown your system"
      ],
      "metadata": {
        "id": "2dntdoMGTduT"
      }
    },
    {
      "cell_type": "code",
      "source": [
        "import os\n",
        "\n",
        "def shutdown_system():\n",
        "    os.system(\"shutdown /s /t 10\")"
      ],
      "metadata": {
        "id": "Y1wqyL6XL2Dh"
      },
      "execution_count": null,
      "outputs": []
    },
    {
      "cell_type": "markdown",
      "source": [
        "# 5 write a function which will take input as a list with any kind of numeric value and give an out as a multiplication of all the numeric data l = [3.5, 6.56, 4,5,\"sudh\" , \"ineuron\" , 'fsda bootcamp 2.0']"
      ],
      "metadata": {
        "id": "P2Aey4fmTgUt"
      }
    },
    {
      "cell_type": "code",
      "source": [
        "l = [3.5, 6.56, 4, 5, \"sudh\", \"ineuron\", 'fsda bootcamp 2.0']\n",
        "def multiply_numeric_values(lst):\n",
        "    result = 1\n",
        "    for item in lst:\n",
        "        if isinstance(item, (int, float)):\n",
        "            result = item*result\n",
        "    return result\n",
        "    result = multiply_numeric_values(l)\n",
        "print(result)"
      ],
      "metadata": {
        "colab": {
          "base_uri": "https://localhost:8080/"
        },
        "id": "qjAdK1rQTdFV",
        "outputId": "593577d6-9335-43d3-907e-2de990ef839f"
      },
      "execution_count": null,
      "outputs": [
        {
          "output_type": "stream",
          "name": "stdout",
          "text": [
            "459.19999999999993\n"
          ]
        }
      ]
    },
    {
      "cell_type": "markdown",
      "source": [
        "# 8 write a function which will be able to read a doc/word file from your system"
      ],
      "metadata": {
        "id": "B7oB1bd4VEQF"
      }
    },
    {
      "cell_type": "code",
      "source": [
        "import docx\n",
        "\n",
        "def read_word_file(filename):\n",
        "    # Load the Word document\n",
        "    doc = docx.Document(filename)\n",
        "\n",
        "    # Extract the text from the document\n",
        "    text = \"\"\n",
        "    for paragraph in doc.paragraphs:\n",
        "        text += paragraph.text\n",
        "\n",
        "    # Print the extracted text\n",
        "    print(text)"
      ],
      "metadata": {
        "id": "eSpXAaM0UBtz"
      },
      "execution_count": null,
      "outputs": []
    }
  ]
}