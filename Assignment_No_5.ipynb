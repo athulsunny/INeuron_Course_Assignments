{
  "nbformat": 4,
  "nbformat_minor": 0,
  "metadata": {
    "colab": {
      "provenance": []
    },
    "kernelspec": {
      "name": "python3",
      "display_name": "Python 3"
    },
    "language_info": {
      "name": "python"
    }
  },
  "cells": [
    {
      "cell_type": "markdown",
      "source": [
        "On amazon website we have the following available items -\n",
        "----------------\n",
        "\n",
        ";\n",
        "amazon_website = [(\"watch\", 5000), (\"phone\", 10000), (\"laptop\", 50000), (\"shirt\", 1000)]\n",
        "'''\n",
        "\n",
        "Take the user input N no. of times and find out the total cost to be paid?\n",
        "\n",
        "OR\n",
        "\n",
        "You can ask the user quntity or the count of item?\n",
        "\n",
        "if the item is not present in the amazon website then print that item as out of stock and do add it total\n",
        "\n",
        "HINT: while, for loop.. indexing\n",
        "```\n",
        "\n"
      ],
      "metadata": {
        "id": "y2yZWZHrUfVr"
      }
    },
    {
      "cell_type": "code",
      "source": [
        "\n",
        "amazon_website = [(\"watch\", 5000), (\"phone\", 10000), (\"laptop\", 50000), (\"shirt\", 1000)]\n",
        "total_cost = 0\n",
        "n = int(input(\"Enter the number of items you want to buy: \"))\n",
        "\n",
        "for i in range(n):\n",
        "    product_name = input(f\"Enter the product name of item {i+1}: \")\n",
        "    quantity = int(input(f\"Enter the quantity of item {i+1}: \"))\n",
        "\n",
        "    item_found = False\n",
        "    for item in amazon_website:\n",
        "        if item[0] == product_name:\n",
        "            total_cost += item[1] * quantity\n",
        "            item_found = True\n",
        "            break\n",
        "\n",
        "    if not item_found:\n",
        "        print(f\"{product_name} is out of stock\")\n",
        "\n",
        "print(f\"The total cost of all items is {total_cost}\")"
      ],
      "metadata": {
        "id": "eE8pqfSKd3vw"
      },
      "execution_count": null,
      "outputs": []
    }
  ]
}